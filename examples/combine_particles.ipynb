{
 "cells": [
  {
   "cell_type": "markdown",
   "metadata": {},
   "source": [
    "# Introduction\n",
    "\n",
    "In this example, we will analyse a ROOT file containing inclusive $e^+ e^- \\to Z^0 \\to b\\bar{b}$ events generated with Pythia and Delphes in FCCSW. The command used to generate this sample is:\n",
    "\n",
    "`\n",
    "./run fccrun Sim/SimDelphesInterface/options/PythiaDelphes_config.py --Filename Generation/data/ee_Z_bbbar.cmd -n 10000\n",
    "`\n",
    "\n",
    "where the `ee_Z_bbbar.cmd` file was created from the `ee_Z_ddbar.cmd` example by changing the quark number to `5` (for $b$-quarks). The ROOT file is loaded using the `uproot` package, and the goal of the analysis is to produce an invariant mass peak for the $D^0 \\to K^- \\pi^+$ decay. \n",
    "\n",
    "The $b$-quarks produced in the $Z^0$ decay quickly hadronise to different types of $b$-hadrons such as $B^0$, $B^\\pm$, and $B_s^0$ mesons. Many $D^0$ mesons are then produced when these mesons decay, due to the favoured nature of the $b \\to c$ quark transition. Around 4\\% of the $D^0$ mesons then decay to a kaon and a pion. To search for the $D^0 \\to K^- \\pi^+$ decay, we make combinations of kaons and pions using the `awkward array` package.\n",
    "\n",
    "## First some imports of what we need\n",
    "\n",
    "We load `uproot4` (will eventually be called just `uproot`) and `awkward1` (will eventually be just `awkward`) to load the ROOT files and analyse them. We load `numpy` for some numerical operations, and `matplotlib` for plotting. We will make use of the `particle` package to give us information on the PDG ID and mass of various particles. We also load functions from the main project code directory `fcc_python_tools`.  "
   ]
  },
  {
   "cell_type": "code",
   "execution_count": 1,
   "metadata": {},
   "outputs": [],
   "source": [
    "import sys,os\n",
    "import uproot4 as uproot\n",
    "import awkward1 as ak\n",
    "import json\n",
    "import numpy as np\n",
    "import matplotlib.pyplot as plt\n",
    "from fcc_python_tools.locations import loc\n",
    "from fcc_python_tools import kinematics\n",
    "from particle import literals as lp\n",
    "from fcc_python_tools import plotting\n",
    "\n",
    "from matplotlib import rc\n",
    "rc('font',**{'family':'serif','serif':['Roman']})\n",
    "rc('text', usetex=True)"
   ]
  },
  {
   "cell_type": "markdown",
   "metadata": {},
   "source": [
    "## Loading the ROOT file with uproot\n",
    "\n",
    "Now we load the ROOT tree using `uproot`, where we point it at the data location `loc.DATA` as defined in `python/locations.py`. The TTree is called `events` in the FCC simulation output."
   ]
  },
  {
   "cell_type": "code",
   "execution_count": 2,
   "metadata": {},
   "outputs": [],
   "source": [
    "file = uproot.open(f\"{loc.DATA}/FCCDelphesOutput.root\")\n",
    "tree = file['events']"
   ]
  },
  {
   "cell_type": "markdown",
   "metadata": {},
   "source": [
    "We can check how many events are in our tree - this should match the number of events generated in Pythia."
   ]
  },
  {
   "cell_type": "code",
   "execution_count": 3,
   "metadata": {},
   "outputs": [
    {
     "data": {
      "text/plain": [
       "10000"
      ]
     },
     "execution_count": 3,
     "metadata": {},
     "output_type": "execute_result"
    }
   ],
   "source": [
    "tree.num_entries"
   ]
  },
  {
   "cell_type": "markdown",
   "metadata": {},
   "source": [
    "A useful summary of the tree contents is given by the `show()` function, which shows the name, ROOT variable type, and type as interepted by `uproot` and `awkward array`."
   ]
  },
  {
   "cell_type": "code",
   "execution_count": 4,
   "metadata": {},
   "outputs": [
    {
     "name": "stdout",
     "output_type": "stream",
     "text": [
      "name                 | typename                 | interpretation                \n",
      "---------------------+--------------------------+-------------------------------\n",
      "genParticles         | vector<fcc::MCParticl... | AsGroup(<TBranchElement 'ge...\n",
      "genParticles/genP... | int32_t[]                | AsJagged(AsDtype('>i4'))\n",
      "genParticles/genP... | int32_t[]                | AsJagged(AsDtype('>i4'))\n",
      "genParticles/genP... | uint32_t[]               | AsJagged(AsDtype('>u4'))\n",
      "genParticles/genP... | float[]                  | AsJagged(AsDtype('>f4'))\n",
      "genParticles/genP... | float[]                  | AsJagged(AsDtype('>f4'))\n",
      "genParticles/genP... | float[]                  | AsJagged(AsDtype('>f4'))\n",
      "genParticles/genP... | float[]                  | AsJagged(AsDtype('>f4'))\n",
      "genParticles/genP... | float[]                  | AsJagged(AsDtype('>f4'))\n",
      "genParticles/genP... | float[]                  | AsJagged(AsDtype('>f4'))\n",
      "genParticles/genP... | float[]                  | AsJagged(AsDtype('>f4'))\n",
      "genParticles/genP... | uint32_t[]               | AsJagged(AsDtype('>u4'))\n",
      "genParticles#0       | vector<podio::ObjectID>  | AsGroup(<TBranchElement 'ge...\n",
      "genParticles#0/ge... | int32_t[]                | AsJagged(AsDtype('>i4'))\n",
      "genParticles#0/ge... | int32_t[]                | AsJagged(AsDtype('>i4'))\n",
      "genParticles#1       | vector<podio::ObjectID>  | AsGroup(<TBranchElement 'ge...\n",
      "genParticles#1/ge... | int32_t[]                | AsJagged(AsDtype('>i4'))\n",
      "genParticles#1/ge... | int32_t[]                | AsJagged(AsDtype('>i4'))\n",
      "genVertices          | vector<fcc::GenVertex... | AsGroup(<TBranchElement 'ge...\n",
      "genVertices/genVe... | float[]                  | AsJagged(AsDtype('>f4'))\n",
      "genVertices/genVe... | float[]                  | AsJagged(AsDtype('>f4'))\n",
      "genVertices/genVe... | float[]                  | AsJagged(AsDtype('>f4'))\n",
      "genVertices/genVe... | float[]                  | AsJagged(AsDtype('>f4'))\n",
      "mcEventWeights       | vector<fcc::FloatValu... | AsGroup(<TBranchElement 'mc...\n",
      "mcEventWeights/mc... | float[]                  | AsJagged(AsDtype('>f4'))\n",
      "skimmedGenParticles  | vector<fcc::MCParticl... | AsGroup(<TBranchElement 'sk...\n",
      "skimmedGenParticl... | int32_t[]                | AsJagged(AsDtype('>i4'))\n",
      "skimmedGenParticl... | int32_t[]                | AsJagged(AsDtype('>i4'))\n",
      "skimmedGenParticl... | uint32_t[]               | AsJagged(AsDtype('>u4'))\n",
      "skimmedGenParticl... | float[]                  | AsJagged(AsDtype('>f4'))\n",
      "skimmedGenParticl... | float[]                  | AsJagged(AsDtype('>f4'))\n",
      "skimmedGenParticl... | float[]                  | AsJagged(AsDtype('>f4'))\n",
      "skimmedGenParticl... | float[]                  | AsJagged(AsDtype('>f4'))\n",
      "skimmedGenParticl... | float[]                  | AsJagged(AsDtype('>f4'))\n",
      "skimmedGenParticl... | float[]                  | AsJagged(AsDtype('>f4'))\n",
      "skimmedGenParticl... | float[]                  | AsJagged(AsDtype('>f4'))\n",
      "skimmedGenParticl... | uint32_t[]               | AsJagged(AsDtype('>u4'))\n",
      "skimmedGenParticl... | vector<podio::ObjectID>  | AsGroup(<TBranchElement 'sk...\n",
      "skimmedGenParticl... | int32_t[]                | AsJagged(AsDtype('>i4'))\n",
      "skimmedGenParticl... | int32_t[]                | AsJagged(AsDtype('>i4'))\n",
      "skimmedGenParticl... | vector<podio::ObjectID>  | AsGroup(<TBranchElement 'sk...\n",
      "skimmedGenParticl... | int32_t[]                | AsJagged(AsDtype('>i4'))\n",
      "skimmedGenParticl... | int32_t[]                | AsJagged(AsDtype('>i4'))\n",
      "muons                | vector<fcc::ParticleD... | AsGroup(<TBranchElement 'mu...\n",
      "muons/muons.core.... | int32_t[]                | AsJagged(AsDtype('>i4'))\n",
      "muons/muons.core.... | int32_t[]                | AsJagged(AsDtype('>i4'))\n",
      "muons/muons.core.... | uint32_t[]               | AsJagged(AsDtype('>u4'))\n",
      "muons/muons.core.... | float[]                  | AsJagged(AsDtype('>f4'))\n",
      "muons/muons.core.... | float[]                  | AsJagged(AsDtype('>f4'))\n",
      "muons/muons.core.... | float[]                  | AsJagged(AsDtype('>f4'))\n",
      "muons/muons.core.... | float[]                  | AsJagged(AsDtype('>f4'))\n",
      "muons/muons.core.... | float[]                  | AsJagged(AsDtype('>f4'))\n",
      "muons/muons.core.... | float[]                  | AsJagged(AsDtype('>f4'))\n",
      "muons/muons.core.... | float[]                  | AsJagged(AsDtype('>f4'))\n",
      "muons/muons.core.... | uint32_t[]               | AsJagged(AsDtype('>u4'))\n",
      "muons/muons.track... | uint32_t[]               | AsJagged(AsDtype('>u4'))\n",
      "muons/muons.track... | uint32_t[]               | AsJagged(AsDtype('>u4'))\n",
      "muons/muons.clust... | uint32_t[]               | AsJagged(AsDtype('>u4'))\n",
      "muons/muons.clust... | uint32_t[]               | AsJagged(AsDtype('>u4'))\n",
      "muons#0              | vector<podio::ObjectID>  | AsGroup(<TBranchElement 'mu...\n",
      "muons#0/muons#0.i... | int32_t[]                | AsJagged(AsDtype('>i4'))\n",
      "muons#0/muons#0.c... | int32_t[]                | AsJagged(AsDtype('>i4'))\n",
      "muons#1              | vector<podio::ObjectID>  | AsGroup(<TBranchElement 'mu...\n",
      "muons#1/muons#1.i... | int32_t[]                | AsJagged(AsDtype('>i4'))\n",
      "muons#1/muons#1.c... | int32_t[]                | AsJagged(AsDtype('>i4'))\n",
      "muonsToMC            | std::vector<fcc::Part... | AsJagged(AsStridedObjects(M...\n",
      "muonsToMC#0          | vector<podio::ObjectID>  | AsGroup(<TBranchElement 'mu...\n",
      "muonsToMC#0/muons... | int32_t[]                | AsJagged(AsDtype('>i4'))\n",
      "muonsToMC#0/muons... | int32_t[]                | AsJagged(AsDtype('>i4'))\n",
      "muonsToMC#1          | vector<podio::ObjectID>  | AsGroup(<TBranchElement 'mu...\n",
      "muonsToMC#1/muons... | int32_t[]                | AsJagged(AsDtype('>i4'))\n",
      "muonsToMC#1/muons... | int32_t[]                | AsJagged(AsDtype('>i4'))\n",
      "muonITags            | vector<fcc::TaggedPar... | AsGroup(<TBranchElement 'mu...\n",
      "muonITags/muonITa... | float[]                  | AsJagged(AsDtype('>f4'))\n",
      "muonITags#0          | vector<podio::ObjectID>  | AsGroup(<TBranchElement 'mu...\n",
      "muonITags#0/muonI... | int32_t[]                | AsJagged(AsDtype('>i4'))\n",
      "muonITags#0/muonI... | int32_t[]                | AsJagged(AsDtype('>i4'))\n",
      "electrons            | vector<fcc::ParticleD... | AsGroup(<TBranchElement 'el...\n",
      "electrons/electro... | int32_t[]                | AsJagged(AsDtype('>i4'))\n",
      "electrons/electro... | int32_t[]                | AsJagged(AsDtype('>i4'))\n",
      "electrons/electro... | uint32_t[]               | AsJagged(AsDtype('>u4'))\n",
      "electrons/electro... | float[]                  | AsJagged(AsDtype('>f4'))\n",
      "electrons/electro... | float[]                  | AsJagged(AsDtype('>f4'))\n",
      "electrons/electro... | float[]                  | AsJagged(AsDtype('>f4'))\n",
      "electrons/electro... | float[]                  | AsJagged(AsDtype('>f4'))\n",
      "electrons/electro... | float[]                  | AsJagged(AsDtype('>f4'))\n",
      "electrons/electro... | float[]                  | AsJagged(AsDtype('>f4'))\n",
      "electrons/electro... | float[]                  | AsJagged(AsDtype('>f4'))\n",
      "electrons/electro... | uint32_t[]               | AsJagged(AsDtype('>u4'))\n",
      "electrons/electro... | uint32_t[]               | AsJagged(AsDtype('>u4'))\n",
      "electrons/electro... | uint32_t[]               | AsJagged(AsDtype('>u4'))\n",
      "electrons/electro... | uint32_t[]               | AsJagged(AsDtype('>u4'))\n",
      "electrons/electro... | uint32_t[]               | AsJagged(AsDtype('>u4'))\n",
      "electrons#0          | vector<podio::ObjectID>  | AsGroup(<TBranchElement 'el...\n",
      "electrons#0/elect... | int32_t[]                | AsJagged(AsDtype('>i4'))\n",
      "electrons#0/elect... | int32_t[]                | AsJagged(AsDtype('>i4'))\n",
      "electrons#1          | vector<podio::ObjectID>  | AsGroup(<TBranchElement 'el...\n",
      "electrons#1/elect... | int32_t[]                | AsJagged(AsDtype('>i4'))\n",
      "electrons#1/elect... | int32_t[]                | AsJagged(AsDtype('>i4'))\n",
      "electronsToMC        | std::vector<fcc::Part... | AsJagged(AsStridedObjects(M...\n",
      "electronsToMC#0      | vector<podio::ObjectID>  | AsGroup(<TBranchElement 'el...\n",
      "electronsToMC#0/e... | int32_t[]                | AsJagged(AsDtype('>i4'))\n",
      "electronsToMC#0/e... | int32_t[]                | AsJagged(AsDtype('>i4'))\n",
      "electronsToMC#1      | vector<podio::ObjectID>  | AsGroup(<TBranchElement 'el...\n",
      "electronsToMC#1/e... | int32_t[]                | AsJagged(AsDtype('>i4'))\n",
      "electronsToMC#1/e... | int32_t[]                | AsJagged(AsDtype('>i4'))\n",
      "electronITags        | vector<fcc::TaggedPar... | AsGroup(<TBranchElement 'el...\n",
      "electronITags/ele... | float[]                  | AsJagged(AsDtype('>f4'))\n",
      "electronITags#0      | vector<podio::ObjectID>  | AsGroup(<TBranchElement 'el...\n",
      "electronITags#0/e... | int32_t[]                | AsJagged(AsDtype('>i4'))\n",
      "electronITags#0/e... | int32_t[]                | AsJagged(AsDtype('>i4'))\n",
      "photons              | vector<fcc::ParticleD... | AsGroup(<TBranchElement 'ph...\n",
      "photons/photons.c... | int32_t[]                | AsJagged(AsDtype('>i4'))\n",
      "photons/photons.c... | int32_t[]                | AsJagged(AsDtype('>i4'))\n",
      "photons/photons.c... | uint32_t[]               | AsJagged(AsDtype('>u4'))\n",
      "photons/photons.c... | float[]                  | AsJagged(AsDtype('>f4'))\n",
      "photons/photons.c... | float[]                  | AsJagged(AsDtype('>f4'))\n",
      "photons/photons.c... | float[]                  | AsJagged(AsDtype('>f4'))\n",
      "photons/photons.c... | float[]                  | AsJagged(AsDtype('>f4'))\n",
      "photons/photons.c... | float[]                  | AsJagged(AsDtype('>f4'))\n",
      "photons/photons.c... | float[]                  | AsJagged(AsDtype('>f4'))\n",
      "photons/photons.c... | float[]                  | AsJagged(AsDtype('>f4'))\n",
      "photons/photons.c... | uint32_t[]               | AsJagged(AsDtype('>u4'))\n",
      "photons/photons.t... | uint32_t[]               | AsJagged(AsDtype('>u4'))\n",
      "photons/photons.t... | uint32_t[]               | AsJagged(AsDtype('>u4'))\n",
      "photons/photons.c... | uint32_t[]               | AsJagged(AsDtype('>u4'))\n",
      "photons/photons.c... | uint32_t[]               | AsJagged(AsDtype('>u4'))\n",
      "photons#0            | vector<podio::ObjectID>  | AsGroup(<TBranchElement 'ph...\n",
      "photons#0/photons... | int32_t[]                | AsJagged(AsDtype('>i4'))\n",
      "photons#0/photons... | int32_t[]                | AsJagged(AsDtype('>i4'))\n",
      "photons#1            | vector<podio::ObjectID>  | AsGroup(<TBranchElement 'ph...\n",
      "photons#1/photons... | int32_t[]                | AsJagged(AsDtype('>i4'))\n",
      "photons#1/photons... | int32_t[]                | AsJagged(AsDtype('>i4'))\n",
      "photonsToMC          | std::vector<fcc::Part... | AsJagged(AsStridedObjects(M...\n",
      "photonsToMC#0        | vector<podio::ObjectID>  | AsGroup(<TBranchElement 'ph...\n",
      "photonsToMC#0/pho... | int32_t[]                | AsJagged(AsDtype('>i4'))\n",
      "photonsToMC#0/pho... | int32_t[]                | AsJagged(AsDtype('>i4'))\n",
      "photonsToMC#1        | vector<podio::ObjectID>  | AsGroup(<TBranchElement 'ph...\n",
      "photonsToMC#1/pho... | int32_t[]                | AsJagged(AsDtype('>i4'))\n",
      "photonsToMC#1/pho... | int32_t[]                | AsJagged(AsDtype('>i4'))\n",
      "photonITags          | vector<fcc::TaggedPar... | AsGroup(<TBranchElement 'ph...\n",
      "photonITags/photo... | float[]                  | AsJagged(AsDtype('>f4'))\n",
      "photonITags#0        | vector<podio::ObjectID>  | AsGroup(<TBranchElement 'ph...\n",
      "photonITags#0/pho... | int32_t[]                | AsJagged(AsDtype('>i4'))\n",
      "photonITags#0/pho... | int32_t[]                | AsJagged(AsDtype('>i4'))\n",
      "pfcharged            | vector<fcc::ParticleD... | AsGroup(<TBranchElement 'pf...\n",
      "pfcharged/pfcharg... | int32_t[]                | AsJagged(AsDtype('>i4'))\n",
      "pfcharged/pfcharg... | int32_t[]                | AsJagged(AsDtype('>i4'))\n",
      "pfcharged/pfcharg... | uint32_t[]               | AsJagged(AsDtype('>u4'))\n",
      "pfcharged/pfcharg... | float[]                  | AsJagged(AsDtype('>f4'))\n",
      "pfcharged/pfcharg... | float[]                  | AsJagged(AsDtype('>f4'))\n",
      "pfcharged/pfcharg... | float[]                  | AsJagged(AsDtype('>f4'))\n",
      "pfcharged/pfcharg... | float[]                  | AsJagged(AsDtype('>f4'))\n",
      "pfcharged/pfcharg... | float[]                  | AsJagged(AsDtype('>f4'))\n",
      "pfcharged/pfcharg... | float[]                  | AsJagged(AsDtype('>f4'))\n",
      "pfcharged/pfcharg... | float[]                  | AsJagged(AsDtype('>f4'))\n",
      "pfcharged/pfcharg... | uint32_t[]               | AsJagged(AsDtype('>u4'))\n",
      "pfcharged/pfcharg... | uint32_t[]               | AsJagged(AsDtype('>u4'))\n",
      "pfcharged/pfcharg... | uint32_t[]               | AsJagged(AsDtype('>u4'))\n",
      "pfcharged/pfcharg... | uint32_t[]               | AsJagged(AsDtype('>u4'))\n",
      "pfcharged/pfcharg... | uint32_t[]               | AsJagged(AsDtype('>u4'))\n",
      "pfcharged#0          | vector<podio::ObjectID>  | AsGroup(<TBranchElement 'pf...\n",
      "pfcharged#0/pfcha... | int32_t[]                | AsJagged(AsDtype('>i4'))\n",
      "pfcharged#0/pfcha... | int32_t[]                | AsJagged(AsDtype('>i4'))\n",
      "pfcharged#1          | vector<podio::ObjectID>  | AsGroup(<TBranchElement 'pf...\n",
      "pfcharged#1/pfcha... | int32_t[]                | AsJagged(AsDtype('>i4'))\n",
      "pfcharged#1/pfcha... | int32_t[]                | AsJagged(AsDtype('>i4'))\n",
      "pfchargedToMC        | std::vector<fcc::Part... | AsJagged(AsStridedObjects(M...\n",
      "pfchargedToMC#0      | vector<podio::ObjectID>  | AsGroup(<TBranchElement 'pf...\n",
      "pfchargedToMC#0/p... | int32_t[]                | AsJagged(AsDtype('>i4'))\n",
      "pfchargedToMC#0/p... | int32_t[]                | AsJagged(AsDtype('>i4'))\n",
      "pfchargedToMC#1      | vector<podio::ObjectID>  | AsGroup(<TBranchElement 'pf...\n",
      "pfchargedToMC#1/p... | int32_t[]                | AsJagged(AsDtype('>i4'))\n",
      "pfchargedToMC#1/p... | int32_t[]                | AsJagged(AsDtype('>i4'))\n",
      "pfphotons            | vector<fcc::ParticleD... | AsGroup(<TBranchElement 'pf...\n",
      "pfphotons/pfphoto... | int32_t[]                | AsJagged(AsDtype('>i4'))\n",
      "pfphotons/pfphoto... | int32_t[]                | AsJagged(AsDtype('>i4'))\n",
      "pfphotons/pfphoto... | uint32_t[]               | AsJagged(AsDtype('>u4'))\n",
      "pfphotons/pfphoto... | float[]                  | AsJagged(AsDtype('>f4'))\n",
      "pfphotons/pfphoto... | float[]                  | AsJagged(AsDtype('>f4'))\n",
      "pfphotons/pfphoto... | float[]                  | AsJagged(AsDtype('>f4'))\n",
      "pfphotons/pfphoto... | float[]                  | AsJagged(AsDtype('>f4'))\n",
      "pfphotons/pfphoto... | float[]                  | AsJagged(AsDtype('>f4'))\n",
      "pfphotons/pfphoto... | float[]                  | AsJagged(AsDtype('>f4'))\n",
      "pfphotons/pfphoto... | float[]                  | AsJagged(AsDtype('>f4'))\n",
      "pfphotons/pfphoto... | uint32_t[]               | AsJagged(AsDtype('>u4'))\n",
      "pfphotons/pfphoto... | uint32_t[]               | AsJagged(AsDtype('>u4'))\n",
      "pfphotons/pfphoto... | uint32_t[]               | AsJagged(AsDtype('>u4'))\n",
      "pfphotons/pfphoto... | uint32_t[]               | AsJagged(AsDtype('>u4'))\n",
      "pfphotons/pfphoto... | uint32_t[]               | AsJagged(AsDtype('>u4'))\n",
      "pfphotons#0          | vector<podio::ObjectID>  | AsGroup(<TBranchElement 'pf...\n",
      "pfphotons#0/pfpho... | int32_t[]                | AsJagged(AsDtype('>i4'))\n",
      "pfphotons#0/pfpho... | int32_t[]                | AsJagged(AsDtype('>i4'))\n",
      "pfphotons#1          | vector<podio::ObjectID>  | AsGroup(<TBranchElement 'pf...\n",
      "pfphotons#1/pfpho... | int32_t[]                | AsJagged(AsDtype('>i4'))\n",
      "pfphotons#1/pfpho... | int32_t[]                | AsJagged(AsDtype('>i4'))\n",
      "pfphotonsToMC        | std::vector<fcc::Part... | AsJagged(AsStridedObjects(M...\n",
      "pfphotonsToMC#0      | vector<podio::ObjectID>  | AsGroup(<TBranchElement 'pf...\n",
      "pfphotonsToMC#0/p... | int32_t[]                | AsJagged(AsDtype('>i4'))\n",
      "pfphotonsToMC#0/p... | int32_t[]                | AsJagged(AsDtype('>i4'))\n",
      "pfphotonsToMC#1      | vector<podio::ObjectID>  | AsGroup(<TBranchElement 'pf...\n",
      "pfphotonsToMC#1/p... | int32_t[]                | AsJagged(AsDtype('>i4'))\n",
      "pfphotonsToMC#1/p... | int32_t[]                | AsJagged(AsDtype('>i4'))\n",
      "pfneutrals           | vector<fcc::ParticleD... | AsGroup(<TBranchElement 'pf...\n",
      "pfneutrals/pfneut... | int32_t[]                | AsJagged(AsDtype('>i4'))\n",
      "pfneutrals/pfneut... | int32_t[]                | AsJagged(AsDtype('>i4'))\n",
      "pfneutrals/pfneut... | uint32_t[]               | AsJagged(AsDtype('>u4'))\n",
      "pfneutrals/pfneut... | float[]                  | AsJagged(AsDtype('>f4'))\n",
      "pfneutrals/pfneut... | float[]                  | AsJagged(AsDtype('>f4'))\n",
      "pfneutrals/pfneut... | float[]                  | AsJagged(AsDtype('>f4'))\n",
      "pfneutrals/pfneut... | float[]                  | AsJagged(AsDtype('>f4'))\n",
      "pfneutrals/pfneut... | float[]                  | AsJagged(AsDtype('>f4'))\n",
      "pfneutrals/pfneut... | float[]                  | AsJagged(AsDtype('>f4'))\n",
      "pfneutrals/pfneut... | float[]                  | AsJagged(AsDtype('>f4'))\n",
      "pfneutrals/pfneut... | uint32_t[]               | AsJagged(AsDtype('>u4'))\n",
      "pfneutrals/pfneut... | uint32_t[]               | AsJagged(AsDtype('>u4'))\n",
      "pfneutrals/pfneut... | uint32_t[]               | AsJagged(AsDtype('>u4'))\n",
      "pfneutrals/pfneut... | uint32_t[]               | AsJagged(AsDtype('>u4'))\n",
      "pfneutrals/pfneut... | uint32_t[]               | AsJagged(AsDtype('>u4'))\n",
      "pfneutrals#0         | vector<podio::ObjectID>  | AsGroup(<TBranchElement 'pf...\n",
      "pfneutrals#0/pfne... | int32_t[]                | AsJagged(AsDtype('>i4'))\n",
      "pfneutrals#0/pfne... | int32_t[]                | AsJagged(AsDtype('>i4'))\n",
      "pfneutrals#1         | vector<podio::ObjectID>  | AsGroup(<TBranchElement 'pf...\n",
      "pfneutrals#1/pfne... | int32_t[]                | AsJagged(AsDtype('>i4'))\n",
      "pfneutrals#1/pfne... | int32_t[]                | AsJagged(AsDtype('>i4'))\n",
      "pfneutralsToMC       | std::vector<fcc::Part... | AsJagged(AsStridedObjects(M...\n",
      "pfneutralsToMC#0     | vector<podio::ObjectID>  | AsGroup(<TBranchElement 'pf...\n",
      "pfneutralsToMC#0/... | int32_t[]                | AsJagged(AsDtype('>i4'))\n",
      "pfneutralsToMC#0/... | int32_t[]                | AsJagged(AsDtype('>i4'))\n",
      "pfneutralsToMC#1     | vector<podio::ObjectID>  | AsGroup(<TBranchElement 'pf...\n",
      "pfneutralsToMC#1/... | int32_t[]                | AsJagged(AsDtype('>i4'))\n",
      "pfneutralsToMC#1/... | int32_t[]                | AsJagged(AsDtype('>i4'))\n",
      "genJets              | vector<fcc::GenJetData>  | AsGroup(<TBranchElement 'ge...\n",
      "genJets/genJets.c... | float[]                  | AsJagged(AsDtype('>f4'))\n",
      "genJets/genJets.c... | float[]                  | AsJagged(AsDtype('>f4'))\n",
      "genJets/genJets.c... | float[]                  | AsJagged(AsDtype('>f4'))\n",
      "genJets/genJets.c... | float[]                  | AsJagged(AsDtype('>f4'))\n",
      "genJets/genJets.c... | float[]                  | AsJagged(AsDtype('>f4'))\n",
      "genJets/genJets.c... | uint32_t[]               | AsJagged(AsDtype('>u4'))\n",
      "genJets/genJets.p... | uint32_t[]               | AsJagged(AsDtype('>u4'))\n",
      "genJets/genJets.p... | uint32_t[]               | AsJagged(AsDtype('>u4'))\n",
      "genJets#0            | vector<podio::ObjectID>  | AsGroup(<TBranchElement 'ge...\n",
      "genJets#0/genJets... | int32_t[]                | AsJagged(AsDtype('>i4'))\n",
      "genJets#0/genJets... | int32_t[]                | AsJagged(AsDtype('>i4'))\n",
      "genJetsFlavor        | vector<fcc::TaggedGen... | AsGroup(<TBranchElement 'ge...\n",
      "genJetsFlavor/gen... | float[]                  | AsJagged(AsDtype('>f4'))\n",
      "genJetsFlavor#0      | vector<podio::ObjectID>  | AsGroup(<TBranchElement 'ge...\n",
      "genJetsFlavor#0/g... | int32_t[]                | AsJagged(AsDtype('>i4'))\n",
      "genJetsFlavor#0/g... | int32_t[]                | AsJagged(AsDtype('>i4'))\n",
      "jets                 | vector<fcc::JetData>     | AsGroup(<TBranchElement 'je...\n",
      "jets/jets.core.p4... | float[]                  | AsJagged(AsDtype('>f4'))\n",
      "jets/jets.core.p4.px | float[]                  | AsJagged(AsDtype('>f4'))\n",
      "jets/jets.core.p4.py | float[]                  | AsJagged(AsDtype('>f4'))\n",
      "jets/jets.core.p4.pz | float[]                  | AsJagged(AsDtype('>f4'))\n",
      "jets/jets.core.area  | float[]                  | AsJagged(AsDtype('>f4'))\n",
      "jets/jets.core.bits  | uint32_t[]               | AsJagged(AsDtype('>u4'))\n",
      "jets/jets.particl... | uint32_t[]               | AsJagged(AsDtype('>u4'))\n",
      "jets/jets.particl... | uint32_t[]               | AsJagged(AsDtype('>u4'))\n",
      "jets#0               | vector<podio::ObjectID>  | AsGroup(<TBranchElement 'je...\n",
      "jets#0/jets#0.index  | int32_t[]                | AsJagged(AsDtype('>i4'))\n",
      "jets#0/jets#0.col... | int32_t[]                | AsJagged(AsDtype('>i4'))\n",
      "jetsFlavor           | vector<fcc::TaggedJet... | AsGroup(<TBranchElement 'je...\n",
      "jetsFlavor/jetsFl... | float[]                  | AsJagged(AsDtype('>f4'))\n",
      "jetsFlavor#0         | vector<podio::ObjectID>  | AsGroup(<TBranchElement 'je...\n",
      "jetsFlavor#0/jets... | int32_t[]                | AsJagged(AsDtype('>i4'))\n",
      "jetsFlavor#0/jets... | int32_t[]                | AsJagged(AsDtype('>i4'))\n",
      "bTags                | vector<fcc::TaggedJet... | AsGroup(<TBranchElement 'bT...\n",
      "bTags/bTags.tag      | float[]                  | AsJagged(AsDtype('>f4'))\n",
      "bTags#0              | vector<podio::ObjectID>  | AsGroup(<TBranchElement 'bT...\n",
      "bTags#0/bTags#0.i... | int32_t[]                | AsJagged(AsDtype('>i4'))\n",
      "bTags#0/bTags#0.c... | int32_t[]                | AsJagged(AsDtype('>i4'))\n",
      "cTags                | vector<fcc::TaggedJet... | AsGroup(<TBranchElement 'cT...\n",
      "cTags/cTags.tag      | float[]                  | AsJagged(AsDtype('>f4'))\n",
      "cTags#0              | vector<podio::ObjectID>  | AsGroup(<TBranchElement 'cT...\n",
      "cTags#0/cTags#0.i... | int32_t[]                | AsJagged(AsDtype('>i4'))\n",
      "cTags#0/cTags#0.c... | int32_t[]                | AsJagged(AsDtype('>i4'))\n",
      "tauTags              | vector<fcc::TaggedJet... | AsGroup(<TBranchElement 'ta...\n",
      "tauTags/tauTags.tag  | float[]                  | AsJagged(AsDtype('>f4'))\n",
      "tauTags#0            | vector<podio::ObjectID>  | AsGroup(<TBranchElement 'ta...\n",
      "tauTags#0/tauTags... | int32_t[]                | AsJagged(AsDtype('>i4'))\n",
      "tauTags#0/tauTags... | int32_t[]                | AsJagged(AsDtype('>i4'))\n",
      "jetParts             | vector<fcc::ParticleD... | AsGroup(<TBranchElement 'je...\n",
      "jetParts/jetParts... | int32_t[]                | AsJagged(AsDtype('>i4'))\n",
      "jetParts/jetParts... | int32_t[]                | AsJagged(AsDtype('>i4'))\n",
      "jetParts/jetParts... | uint32_t[]               | AsJagged(AsDtype('>u4'))\n",
      "jetParts/jetParts... | float[]                  | AsJagged(AsDtype('>f4'))\n",
      "jetParts/jetParts... | float[]                  | AsJagged(AsDtype('>f4'))\n",
      "jetParts/jetParts... | float[]                  | AsJagged(AsDtype('>f4'))\n",
      "jetParts/jetParts... | float[]                  | AsJagged(AsDtype('>f4'))\n",
      "jetParts/jetParts... | float[]                  | AsJagged(AsDtype('>f4'))\n",
      "jetParts/jetParts... | float[]                  | AsJagged(AsDtype('>f4'))\n",
      "jetParts/jetParts... | float[]                  | AsJagged(AsDtype('>f4'))\n",
      "jetParts/jetParts... | uint32_t[]               | AsJagged(AsDtype('>u4'))\n",
      "jetParts/jetParts... | uint32_t[]               | AsJagged(AsDtype('>u4'))\n",
      "jetParts/jetParts... | uint32_t[]               | AsJagged(AsDtype('>u4'))\n",
      "jetParts/jetParts... | uint32_t[]               | AsJagged(AsDtype('>u4'))\n",
      "jetParts/jetParts... | uint32_t[]               | AsJagged(AsDtype('>u4'))\n",
      "jetParts#0           | vector<podio::ObjectID>  | AsGroup(<TBranchElement 'je...\n",
      "jetParts#0/jetPar... | int32_t[]                | AsJagged(AsDtype('>i4'))\n",
      "jetParts#0/jetPar... | int32_t[]                | AsJagged(AsDtype('>i4'))\n",
      "jetParts#1           | vector<podio::ObjectID>  | AsGroup(<TBranchElement 'je...\n",
      "jetParts#1/jetPar... | int32_t[]                | AsJagged(AsDtype('>i4'))\n",
      "jetParts#1/jetPar... | int32_t[]                | AsJagged(AsDtype('>i4'))\n",
      "fatjets              | vector<fcc::JetData>     | AsGroup(<TBranchElement 'fa...\n",
      "fatjets/fatjets.c... | float[]                  | AsJagged(AsDtype('>f4'))\n",
      "fatjets/fatjets.c... | float[]                  | AsJagged(AsDtype('>f4'))\n",
      "fatjets/fatjets.c... | float[]                  | AsJagged(AsDtype('>f4'))\n",
      "fatjets/fatjets.c... | float[]                  | AsJagged(AsDtype('>f4'))\n",
      "fatjets/fatjets.c... | float[]                  | AsJagged(AsDtype('>f4'))\n",
      "fatjets/fatjets.c... | uint32_t[]               | AsJagged(AsDtype('>u4'))\n",
      "fatjets/fatjets.p... | uint32_t[]               | AsJagged(AsDtype('>u4'))\n",
      "fatjets/fatjets.p... | uint32_t[]               | AsJagged(AsDtype('>u4'))\n",
      "fatjets#0            | vector<podio::ObjectID>  | AsGroup(<TBranchElement 'fa...\n",
      "fatjets#0/fatjets... | int32_t[]                | AsJagged(AsDtype('>i4'))\n",
      "fatjets#0/fatjets... | int32_t[]                | AsJagged(AsDtype('>i4'))\n",
      "jetsFlavorTagged     | vector<fcc::TaggedJet... | AsGroup(<TBranchElement 'je...\n",
      "jetsFlavorTagged/... | float[]                  | AsJagged(AsDtype('>f4'))\n",
      "jetsFlavorTagged#0   | vector<podio::ObjectID>  | AsGroup(<TBranchElement 'je...\n",
      "jetsFlavorTagged#... | int32_t[]                | AsJagged(AsDtype('>i4'))\n",
      "jetsFlavorTagged#... | int32_t[]                | AsJagged(AsDtype('>i4'))\n",
      "jetsBTagged          | vector<fcc::TaggedJet... | AsGroup(<TBranchElement 'je...\n",
      "jetsBTagged/jetsB... | float[]                  | AsJagged(AsDtype('>f4'))\n",
      "jetsBTagged#0        | vector<podio::ObjectID>  | AsGroup(<TBranchElement 'je...\n",
      "jetsBTagged#0/jet... | int32_t[]                | AsJagged(AsDtype('>i4'))\n",
      "jetsBTagged#0/jet... | int32_t[]                | AsJagged(AsDtype('>i4'))\n",
      "jetsCTagged          | vector<fcc::TaggedJet... | AsGroup(<TBranchElement 'je...\n",
      "jetsCTagged/jetsC... | float[]                  | AsJagged(AsDtype('>f4'))\n",
      "jetsCTagged#0        | vector<podio::ObjectID>  | AsGroup(<TBranchElement 'je...\n",
      "jetsCTagged#0/jet... | int32_t[]                | AsJagged(AsDtype('>i4'))\n",
      "jetsCTagged#0/jet... | int32_t[]                | AsJagged(AsDtype('>i4'))\n",
      "jetsTauTagged        | vector<fcc::TaggedJet... | AsGroup(<TBranchElement 'je...\n",
      "jetsTauTagged/jet... | float[]                  | AsJagged(AsDtype('>f4'))\n",
      "jetsTauTagged#0      | vector<podio::ObjectID>  | AsGroup(<TBranchElement 'je...\n",
      "jetsTauTagged#0/j... | int32_t[]                | AsJagged(AsDtype('>i4'))\n",
      "jetsTauTagged#0/j... | int32_t[]                | AsJagged(AsDtype('>i4'))\n",
      "fatjetParts          | vector<fcc::ParticleD... | AsGroup(<TBranchElement 'fa...\n",
      "fatjetParts/fatje... | int32_t[]                | AsJagged(AsDtype('>i4'))\n",
      "fatjetParts/fatje... | int32_t[]                | AsJagged(AsDtype('>i4'))\n",
      "fatjetParts/fatje... | uint32_t[]               | AsJagged(AsDtype('>u4'))\n",
      "fatjetParts/fatje... | float[]                  | AsJagged(AsDtype('>f4'))\n",
      "fatjetParts/fatje... | float[]                  | AsJagged(AsDtype('>f4'))\n",
      "fatjetParts/fatje... | float[]                  | AsJagged(AsDtype('>f4'))\n",
      "fatjetParts/fatje... | float[]                  | AsJagged(AsDtype('>f4'))\n",
      "fatjetParts/fatje... | float[]                  | AsJagged(AsDtype('>f4'))\n",
      "fatjetParts/fatje... | float[]                  | AsJagged(AsDtype('>f4'))\n",
      "fatjetParts/fatje... | float[]                  | AsJagged(AsDtype('>f4'))\n",
      "fatjetParts/fatje... | uint32_t[]               | AsJagged(AsDtype('>u4'))\n",
      "fatjetParts/fatje... | uint32_t[]               | AsJagged(AsDtype('>u4'))\n",
      "fatjetParts/fatje... | uint32_t[]               | AsJagged(AsDtype('>u4'))\n",
      "fatjetParts/fatje... | uint32_t[]               | AsJagged(AsDtype('>u4'))\n",
      "fatjetParts/fatje... | uint32_t[]               | AsJagged(AsDtype('>u4'))\n",
      "fatjetParts#0        | vector<podio::ObjectID>  | AsGroup(<TBranchElement 'fa...\n",
      "fatjetParts#0/fat... | int32_t[]                | AsJagged(AsDtype('>i4'))\n",
      "fatjetParts#0/fat... | int32_t[]                | AsJagged(AsDtype('>i4'))\n",
      "fatjetParts#1        | vector<podio::ObjectID>  | AsGroup(<TBranchElement 'fa...\n",
      "fatjetParts#1/fat... | int32_t[]                | AsJagged(AsDtype('>i4'))\n",
      "fatjetParts#1/fat... | int32_t[]                | AsJagged(AsDtype('>i4'))\n",
      "jetsOneSubJettiness  | vector<fcc::TaggedJet... | AsGroup(<TBranchElement 'je...\n",
      "jetsOneSubJettine... | float[]                  | AsJagged(AsDtype('>f4'))\n",
      "jetsOneSubJettine... | vector<podio::ObjectID>  | AsGroup(<TBranchElement 'je...\n",
      "jetsOneSubJettine... | int32_t[]                | AsJagged(AsDtype('>i4'))\n",
      "jetsOneSubJettine... | int32_t[]                | AsJagged(AsDtype('>i4'))\n",
      "jetsTwoSubJettiness  | vector<fcc::TaggedJet... | AsGroup(<TBranchElement 'je...\n",
      "jetsTwoSubJettine... | float[]                  | AsJagged(AsDtype('>f4'))\n",
      "jetsTwoSubJettine... | vector<podio::ObjectID>  | AsGroup(<TBranchElement 'je...\n",
      "jetsTwoSubJettine... | int32_t[]                | AsJagged(AsDtype('>i4'))\n",
      "jetsTwoSubJettine... | int32_t[]                | AsJagged(AsDtype('>i4'))\n",
      "jetsThreeSubJetti... | vector<fcc::TaggedJet... | AsGroup(<TBranchElement 'je...\n",
      "jetsThreeSubJetti... | float[]                  | AsJagged(AsDtype('>f4'))\n",
      "jetsThreeSubJetti... | vector<podio::ObjectID>  | AsGroup(<TBranchElement 'je...\n",
      "jetsThreeSubJetti... | int32_t[]                | AsJagged(AsDtype('>i4'))\n",
      "jetsThreeSubJetti... | int32_t[]                | AsJagged(AsDtype('>i4'))\n",
      "subjetsTrimmingTa... | vector<fcc::ResolvedJ... | AsGroup(<TBranchElement 'su...\n",
      "subjetsTrimmingTa... | uint32_t[]               | AsJagged(AsDtype('>u4'))\n",
      "subjetsTrimmingTa... | uint32_t[]               | AsJagged(AsDtype('>u4'))\n",
      "subjetsTrimmingTa... | vector<podio::ObjectID>  | AsGroup(<TBranchElement 'su...\n",
      "subjetsTrimmingTa... | int32_t[]                | AsJagged(AsDtype('>i4'))\n",
      "subjetsTrimmingTa... | int32_t[]                | AsJagged(AsDtype('>i4'))\n",
      "subjetsTrimmingTa... | vector<podio::ObjectID>  | AsGroup(<TBranchElement 'su...\n",
      "subjetsTrimmingTa... | int32_t[]                | AsJagged(AsDtype('>i4'))\n",
      "subjetsTrimmingTa... | int32_t[]                | AsJagged(AsDtype('>i4'))\n",
      "subjetsPruningTagged | vector<fcc::ResolvedJ... | AsGroup(<TBranchElement 'su...\n",
      "subjetsPruningTag... | uint32_t[]               | AsJagged(AsDtype('>u4'))\n",
      "subjetsPruningTag... | uint32_t[]               | AsJagged(AsDtype('>u4'))\n",
      "subjetsPruningTag... | vector<podio::ObjectID>  | AsGroup(<TBranchElement 'su...\n",
      "subjetsPruningTag... | int32_t[]                | AsJagged(AsDtype('>i4'))\n",
      "subjetsPruningTag... | int32_t[]                | AsJagged(AsDtype('>i4'))\n",
      "subjetsPruningTag... | vector<podio::ObjectID>  | AsGroup(<TBranchElement 'su...\n",
      "subjetsPruningTag... | int32_t[]                | AsJagged(AsDtype('>i4'))\n",
      "subjetsPruningTag... | int32_t[]                | AsJagged(AsDtype('>i4'))\n",
      "subjetsSoftDropTa... | vector<fcc::ResolvedJ... | AsGroup(<TBranchElement 'su...\n",
      "subjetsSoftDropTa... | uint32_t[]               | AsJagged(AsDtype('>u4'))\n",
      "subjetsSoftDropTa... | uint32_t[]               | AsJagged(AsDtype('>u4'))\n",
      "subjetsSoftDropTa... | vector<podio::ObjectID>  | AsGroup(<TBranchElement 'su...\n",
      "subjetsSoftDropTa... | int32_t[]                | AsJagged(AsDtype('>i4'))\n",
      "subjetsSoftDropTa... | int32_t[]                | AsJagged(AsDtype('>i4'))\n",
      "subjetsSoftDropTa... | vector<podio::ObjectID>  | AsGroup(<TBranchElement 'su...\n",
      "subjetsSoftDropTa... | int32_t[]                | AsJagged(AsDtype('>i4'))\n",
      "subjetsSoftDropTa... | int32_t[]                | AsJagged(AsDtype('>i4'))\n",
      "subjetsTrimming      | vector<fcc::JetData>     | AsGroup(<TBranchElement 'su...\n",
      "subjetsTrimming/s... | float[]                  | AsJagged(AsDtype('>f4'))\n",
      "subjetsTrimming/s... | float[]                  | AsJagged(AsDtype('>f4'))\n",
      "subjetsTrimming/s... | float[]                  | AsJagged(AsDtype('>f4'))\n",
      "subjetsTrimming/s... | float[]                  | AsJagged(AsDtype('>f4'))\n",
      "subjetsTrimming/s... | float[]                  | AsJagged(AsDtype('>f4'))\n",
      "subjetsTrimming/s... | uint32_t[]               | AsJagged(AsDtype('>u4'))\n",
      "subjetsTrimming/s... | uint32_t[]               | AsJagged(AsDtype('>u4'))\n",
      "subjetsTrimming/s... | uint32_t[]               | AsJagged(AsDtype('>u4'))\n",
      "subjetsTrimming#0    | vector<podio::ObjectID>  | AsGroup(<TBranchElement 'su...\n",
      "subjetsTrimming#0... | int32_t[]                | AsJagged(AsDtype('>i4'))\n",
      "subjetsTrimming#0... | int32_t[]                | AsJagged(AsDtype('>i4'))\n",
      "subjetsPruning       | vector<fcc::JetData>     | AsGroup(<TBranchElement 'su...\n",
      "subjetsPruning/su... | float[]                  | AsJagged(AsDtype('>f4'))\n",
      "subjetsPruning/su... | float[]                  | AsJagged(AsDtype('>f4'))\n",
      "subjetsPruning/su... | float[]                  | AsJagged(AsDtype('>f4'))\n",
      "subjetsPruning/su... | float[]                  | AsJagged(AsDtype('>f4'))\n",
      "subjetsPruning/su... | float[]                  | AsJagged(AsDtype('>f4'))\n",
      "subjetsPruning/su... | uint32_t[]               | AsJagged(AsDtype('>u4'))\n",
      "subjetsPruning/su... | uint32_t[]               | AsJagged(AsDtype('>u4'))\n",
      "subjetsPruning/su... | uint32_t[]               | AsJagged(AsDtype('>u4'))\n",
      "subjetsPruning#0     | vector<podio::ObjectID>  | AsGroup(<TBranchElement 'su...\n",
      "subjetsPruning#0/... | int32_t[]                | AsJagged(AsDtype('>i4'))\n",
      "subjetsPruning#0/... | int32_t[]                | AsJagged(AsDtype('>i4'))\n",
      "subjetsSoftDrop      | vector<fcc::JetData>     | AsGroup(<TBranchElement 'su...\n",
      "subjetsSoftDrop/s... | float[]                  | AsJagged(AsDtype('>f4'))\n",
      "subjetsSoftDrop/s... | float[]                  | AsJagged(AsDtype('>f4'))\n",
      "subjetsSoftDrop/s... | float[]                  | AsJagged(AsDtype('>f4'))\n",
      "subjetsSoftDrop/s... | float[]                  | AsJagged(AsDtype('>f4'))\n",
      "subjetsSoftDrop/s... | float[]                  | AsJagged(AsDtype('>f4'))\n",
      "subjetsSoftDrop/s... | uint32_t[]               | AsJagged(AsDtype('>u4'))\n",
      "subjetsSoftDrop/s... | uint32_t[]               | AsJagged(AsDtype('>u4'))\n",
      "subjetsSoftDrop/s... | uint32_t[]               | AsJagged(AsDtype('>u4'))\n",
      "subjetsSoftDrop#0    | vector<podio::ObjectID>  | AsGroup(<TBranchElement 'su...\n",
      "subjetsSoftDrop#0... | int32_t[]                | AsJagged(AsDtype('>i4'))\n",
      "subjetsSoftDrop#0... | int32_t[]                | AsJagged(AsDtype('>i4'))\n",
      "met                  | vector<fcc::METData>     | AsGroup(<TBranchElement 'me...\n",
      "met/met.position.x   | float[]                  | AsJagged(AsDtype('>f4'))\n",
      "met/met.position.y   | float[]                  | AsJagged(AsDtype('>f4'))\n",
      "met/met.position.z   | float[]                  | AsJagged(AsDtype('>f4'))\n",
      "met/met.magnitude    | float[]                  | AsJagged(AsDtype('>f4'))\n",
      "met/met.phi          | float[]                  | AsJagged(AsDtype('>f4'))\n",
      "met/met.scalarSum    | float[]                  | AsJagged(AsDtype('>f4'))\n"
     ]
    }
   ],
   "source": [
    "tree.show()"
   ]
  },
  {
   "cell_type": "markdown",
   "metadata": {},
   "source": [
    "## Accessing specific particles\n",
    "\n",
    "Next we get the stable charged hadrons and load them into an `awkward array`. The charged hadrons live in the `pfcharged` container in the ROOT file. There are also locations like `muons`, `electrons`, and `photons`, which you can also access in the same way.\n",
    "\n",
    "Note that we use a wildcard `*` here, which loads all of the branches under the name `pfcharged.core`. We use the `zip` command as a handy way to group all the branches of the hadrons together."
   ]
  },
  {
   "cell_type": "code",
   "execution_count": 5,
   "metadata": {},
   "outputs": [],
   "source": [
    "h_container = \"pfcharged.core\"\n",
    "h = tree.arrays(filter_name=f\"{h_container}*\",how=\"zip\")"
   ]
  },
  {
   "cell_type": "markdown",
   "metadata": {},
   "source": [
    "## Calculating some new variables and making cuts\n",
    "\n",
    "Because `awkward array` operates at array level, we can process all events and particles in each event with single line commands. Loops can also be written, and even sped up using `numba`, but we won't consider this here.\n",
    "\n",
    "Here we calculate the $p$ and $p_T$ of the hadrons, using the existing momentum components stored in the ROOT file."
   ]
  },
  {
   "cell_type": "code",
   "execution_count": 6,
   "metadata": {},
   "outputs": [],
   "source": [
    "h[h_container,'p4.p'] = kinematics.calc_p(h,h_container)\n",
    "h[h_container,'p4.pt'] = kinematics.calc_pt(h,h_container)"
   ]
  },
  {
   "cell_type": "markdown",
   "metadata": {},
   "source": [
    "Note the syntax here - because we zipped the array, we can access specific branches with `h[h_container,var_name]`. As a reminder, `h_container` is the location of the hadrons in the ROOT file (`pfcharged.core`). We follow the same syntax when calculating a new variable - so `p4.p` and `p4.pt` are added as new branches for our hadrons.\n",
    "\n",
    "The `kinematics.calc_p/pt` functions come from the `fcc_python_tools` directory of this project - they are not `awkward array` methods. If you want to calculate more variables, you can add them into `fcc_python_tools` or just define them directly in your code. Generally, if you are going to reuse the function in several places, it's best to put it somehwere general. \n",
    "\n",
    "Now that we have a $p$ branch, we can define a cut to apply on it like this:"
   ]
  },
  {
   "cell_type": "code",
   "execution_count": 7,
   "metadata": {},
   "outputs": [],
   "source": [
    "p_cut = h[h_container,\"p4.p\"] > 4."
   ]
  },
  {
   "cell_type": "markdown",
   "metadata": {},
   "source": [
    "This requires that all of the hadrons we want to consider have $p > 4$ GeV. To apply this cut to the hadrons, we do:"
   ]
  },
  {
   "cell_type": "code",
   "execution_count": 8,
   "metadata": {},
   "outputs": [],
   "source": [
    "h = h[p_cut]"
   ]
  },
  {
   "cell_type": "markdown",
   "metadata": {},
   "source": [
    "In the same way, we can get samples of pions and kaons from our general hadrons array by cutting on the `pdgId`. We add them as extra members of our `h` array like this:"
   ]
  },
  {
   "cell_type": "code",
   "execution_count": 9,
   "metadata": {},
   "outputs": [],
   "source": [
    "pi_cut = abs(h[h_container,\"pdgId\"]) == abs(lp.pi_plus.pdgid)\n",
    "h[\"pi\"] = h[h_container][pi_cut]\n",
    "\n",
    "k_cut = abs(h[h_container,\"pdgId\"]) == abs(lp.K_plus.pdgid)\n",
    "h[\"k\"] = h[h_container][k_cut]"
   ]
  },
  {
   "cell_type": "markdown",
   "metadata": {},
   "source": [
    "Here we have made use of the [particle](https://github.com/scikit-hep/particle) package, which provides access to various bits of information on PDG particles. We specifically use the `literals` module, which provides shortcuts to a bunch of common particles - these can be found [here](https://github.com/scikit-hep/particle/blob/master/src/particle/shared_literals.py). When we do `lp.pi_plus.pdgid`, we are getting the PDG ID of the pion.\n",
    "\n",
    "\n",
    "## Making particle combinations\n",
    "\n",
    "There are extremely helpful combinatorics functions provided by `awkward array`, namely `combinations()` for particles in the same container and `ak.cartesian()` for particles from different containers. We can use the `cartesian()` function to find all $K\\pi$ pairs in every event. "
   ]
  },
  {
   "cell_type": "code",
   "execution_count": 10,
   "metadata": {},
   "outputs": [],
   "source": [
    "D = ak.cartesian({\"k\": h[\"k\"], \"pi\": h[\"pi\"]})"
   ]
  },
  {
   "cell_type": "markdown",
   "metadata": {},
   "source": [
    "Our kaons and pions are both positively and negatively charged. For physical track combinations, we want the kaon and pion to have opposite charge. We can do this with a cut as follows:"
   ]
  },
  {
   "cell_type": "code",
   "execution_count": 11,
   "metadata": {},
   "outputs": [],
   "source": [
    "D_cut = np.sign(D[\"k\",\"pdgId\"]) != np.sign(D[\"pi\",\"pdgId\"])\n",
    "D = D[D_cut]"
   ]
  },
  {
   "cell_type": "markdown",
   "metadata": {},
   "source": [
    "Now we can calculate the invariant mass of our $K\\pi$ pairs, and look for a $D^0$ peak! To get access to the kaon and pions used to form the D, we can do:"
   ]
  },
  {
   "cell_type": "code",
   "execution_count": 12,
   "metadata": {},
   "outputs": [],
   "source": [
    "D_k, D_pi = ak.unzip(D)"
   ]
  },
  {
   "cell_type": "markdown",
   "metadata": {},
   "source": [
    "and then pass those into a function to calculate their combined invariant mass. This function also takes as input the rest mass of the kaon and pion, which are required in order to calculate the track energies. We take the masses from the `particle` package, again accessing the information via the `literals` module. So `lp.K_plus.mass` gives us the rest mass of the charged kaon."
   ]
  },
  {
   "cell_type": "code",
   "execution_count": 13,
   "metadata": {},
   "outputs": [],
   "source": [
    "PDG_K_m = lp.K_plus.mass/1000.\n",
    "PDG_pi_m = lp.pi_plus.mass/1000.\n",
    "D[\"mass\"] = kinematics.mass_2body(D_k, D_pi, PDG_K_m, PDG_pi_m)"
   ]
  },
  {
   "cell_type": "markdown",
   "metadata": {},
   "source": [
    "To look at only those $K\\pi$ combinations consistent with a $D^0$, we can cut around the PDG $D^0$ mass:"
   ]
  },
  {
   "cell_type": "code",
   "execution_count": 14,
   "metadata": {},
   "outputs": [],
   "source": [
    "PDG_D_m = lp.D_0.mass/1000.\n",
    "D_cut = abs(D[\"mass\"] - PDG_D_m) < 0.025\n",
    "D = D[D_cut]"
   ]
  },
  {
   "cell_type": "markdown",
   "metadata": {},
   "source": [
    "We now make a quick histogram of the $K\\pi$ invariant mass, using the `matplotlib` `hist` function:"
   ]
  },
  {
   "cell_type": "code",
   "execution_count": 15,
   "metadata": {
    "scrolled": true
   },
   "outputs": [
    {
     "data": {
      "image/png": "[encoded data removed]",
      "text/plain": [
       "<Figure size 432x288 with 1 Axes>"
      ]
     },
     "metadata": {
      "needs_background": "light"
     },
     "output_type": "display_data"
    }
   ],
   "source": [
    "plt.hist(ak.flatten(D[\"mass\"]), bins=25)\n",
    "plt.show()"
   ]
  },
  {
   "cell_type": "markdown",
   "metadata": {},
   "source": [
    "Note the use of `ak.flatten()` here, which is the `awkward array` function that turns the jagged data into non-jagged (which `matplotlib` requires). What this means in pratice is that all $D^0$ candidates from all events are shown together - so if an event happens to contain two $K\\pi$ combinations passing our requirements, both of them will be added to the histogram."
   ]
  },
  {
   "cell_type": "markdown",
   "metadata": {},
   "source": [
    "## Pretty plotting\n",
    "\n",
    "An example function which takes the `D[\"mass\"]` values and plots them in a pretty error bar plot is provided. It is run with:"
   ]
  },
  {
   "cell_type": "code",
   "execution_count": 16,
   "metadata": {},
   "outputs": [
    {
     "data": {
      "image/png": "[encoded data removed]",
      "text/plain": [
       "<Figure size 576x576 with 1 Axes>"
      ]
     },
     "metadata": {
      "needs_background": "light"
     },
     "output_type": "display_data"
    }
   ],
   "source": [
    "low = PDG_D_m - 0.025\n",
    "high = PDG_D_m + 0.025\n",
    "plotting.errorbar_hist(D,\"mass\",\"D\",\"$m(K^- \\pi^+)$ [GeV/$c^2$]\",low,high)"
   ]
  },
  {
   "cell_type": "markdown",
   "metadata": {},
   "source": [
    "Here we pass the function the array containing our D candidates (`D`), the variable we want to plot (\"mass\"), the name of the particle which gets added to the output file name for the plot (\"D\"), the x-axis title, and the histogram lower and upper limits."
   ]
  }
 ],
 "metadata": {
  "kernelspec": {
   "display_name": "fcc_pyenv",
   "language": "python",
   "name": "fcc_pyenv"
  },
  "language_info": {
   "codemirror_mode": {
    "name": "ipython",
    "version": 3
   },
   "file_extension": ".py",
   "mimetype": "text/x-python",
   "name": "python",
   "nbconvert_exporter": "python",
   "pygments_lexer": "ipython3",
   "version": "3.7.8"
  }
 },
 "nbformat": 4,
 "nbformat_minor": 4
}
