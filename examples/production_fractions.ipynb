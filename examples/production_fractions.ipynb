{
 "cells": [
  {
   "cell_type": "markdown",
   "metadata": {},
   "source": [
    "# Accessing generated particles to calculate production fractions\n",
    "\n",
    "In this example, we access the container of generated particles (`genParticles`) and count the number of different $B$-hadron species produced in the $Z^0 \\to b\\bar{b}$ hadronisation."
   ]
  },
  {
   "cell_type": "code",
   "execution_count": 1,
   "metadata": {},
   "outputs": [],
   "source": [
    "import uproot4 as uproot\n",
    "import awkward1 as ak\n",
    "import sys,os\n",
    "import json\n",
    "import numpy as np\n",
    "from fcc_python_tools.locations import loc\n",
    "from fcc_python_tools.particle_properties import particles"
   ]
  },
  {
   "cell_type": "markdown",
   "metadata": {},
   "source": [
    "Let's load the `ROOT` file with `uproot` and access the `events` tree:"
   ]
  },
  {
   "cell_type": "code",
   "execution_count": 2,
   "metadata": {},
   "outputs": [],
   "source": [
    "file = uproot.open(f\"{loc.DATA}/FCCDelphesOutput.root\")\n",
    "tree = file['events']"
   ]
  },
  {
   "cell_type": "markdown",
   "metadata": {},
   "source": [
    "Next we load the `genParticles` container into an `awkward array`, using the wildcard `*` to load all branches."
   ]
  },
  {
   "cell_type": "code",
   "execution_count": 3,
   "metadata": {},
   "outputs": [],
   "source": [
    "gen_container = \"genParticles.core\"\n",
    "gen = tree.arrays(filter_name=f\"{gen_container}*\",how=\"zip\")"
   ]
  },
  {
   "cell_type": "markdown",
   "metadata": {},
   "source": [
    "There is a helper dictionary in the `fcc_python_tools/particle_properties.py` script called `particles`, which contains the masses (`m`) and PDG IDs (`pdgId`) of several particles. We use it here to filter out specific $B$-hadrons to count how many there are. You can add more particles to the dict if you need to.\n",
    "\n",
    "Here we loop over different $B$-hadron types, using their `pdgId` values to filter and then count how many there are:"
   ]
  },
  {
   "cell_type": "code",
   "execution_count": 4,
   "metadata": {},
   "outputs": [
    {
     "name": "stdout",
     "output_type": "stream",
     "text": [
      "{'Bd': 8615, 'Bu': 8620, 'Bs': 1963, 'Bc': 8, 'Lb': 698}\n"
     ]
    }
   ],
   "source": [
    "b_types = {\"Bd\": \"$B^0$\", \n",
    "           \"Bu\": \"$B^\\pm$\", \n",
    "           \"Bs\": \"$B_s^0$\", \n",
    "           \"Bc\": \"$B_c^\\pm$\",\n",
    "           \"Lb\": \"$\\\\Lambda_b^0$\"\n",
    "          }\n",
    "n = {}\n",
    "for b in b_types:\n",
    "    b_cut = abs(gen[gen_container,\"pdgId\"]) == particles[b][\"pdgId\"]\n",
    "    n[b] = ak.sum(ak.flatten(b_cut))\n",
    "print(n)"
   ]
  },
  {
   "cell_type": "markdown",
   "metadata": {},
   "source": [
    "Here we have used `ak.flatten()` to turn the jagged array (more than one particle per event) into a flat array. We then use the `ak.sum()` function to count the total number of each $B$-hadron species across all events.\n",
    "\n",
    "We want to know what fraction of the $b$-quarks hadronise to each of the $B$-hadrons. To calculate this, we need the total number of $b$-quarks produced. This one is easy: since we are dealing with $Z^0 \\to b\\bar{b}$, every event contains 2 $b$-quarks. So the total number of $b$-quarks is just twice the total number of events in our `ROOT` file. "
   ]
  },
  {
   "cell_type": "code",
   "execution_count": 5,
   "metadata": {},
   "outputs": [],
   "source": [
    "n_bbbar = 2*tree.num_entries"
   ]
  },
  {
   "cell_type": "markdown",
   "metadata": {},
   "source": [
    "Let's calculate the production fraction for each $B$-hadron:"
   ]
  },
  {
   "cell_type": "code",
   "execution_count": 6,
   "metadata": {},
   "outputs": [
    {
     "name": "stdout",
     "output_type": "stream",
     "text": [
      "{'Bd': 43.075, 'Bu': 43.1, 'Bs': 9.815, 'Bc': 0.04, 'Lb': 3.49}\n"
     ]
    }
   ],
   "source": [
    "prod_frac = {}\n",
    "for b in b_types:\n",
    "    prod_frac[b] = 100*(n[b] / n_bbbar)\n",
    "print(prod_frac)"
   ]
  },
  {
   "cell_type": "markdown",
   "metadata": {},
   "source": [
    "## Persisting the results\n",
    "\n",
    "We can store these values in a dictionary and write it to a `.json` file. `JSON` format is great whenever you need to re-load some analysis numbers you have calculated within another script - it is an important form of analysis persistence."
   ]
  },
  {
   "cell_type": "code",
   "execution_count": 7,
   "metadata": {},
   "outputs": [],
   "source": [
    "with open(f'{loc.JSON}/b_hadron_prod_fracs.json', 'w') as f:\n",
    "    json.dump(prod_frac, f, sort_keys=True, indent=4)"
   ]
  },
  {
   "cell_type": "markdown",
   "metadata": {},
   "source": [
    "Let's finish off by making a LaTeX summary table of our production fractions. We can write this to a `.tex` file which we can then put into some documentation or Beamer slides."
   ]
  },
  {
   "cell_type": "code",
   "execution_count": 8,
   "metadata": {},
   "outputs": [],
   "source": [
    "f_tex = open(f'{loc.TABLES}/b_hadron_prod_fracs.tex','w')\n",
    "f_tex.write('\\\\begin{table}[!h] \\n')\n",
    "f_tex.write('\\\\centering \\n')\n",
    "f_tex.write('\\\\begin{tabular}{l c} \\n')\n",
    "f_tex.write('$B$-hadron & Production fraction (\\%) \\\\\\\\ \\\\hline \\n')\n",
    "for b in b_types:\n",
    "    f_tex.write(f'{b_types[b]} & {prod_frac[b]:.2f} \\\\\\\\ \\n')\n",
    "f_tex.write('\\\\end{tabular} \\n')\n",
    "f_tex.write('\\\\caption{$B$-hadron production fractions in $Z^0 \\\\to b\\\\bar{b}$ simulation. \\\\label{tab:b_hadron_prod_fracs}} \\n')\n",
    "f_tex.write('\\\\end{table}')\n",
    "f_tex.close()"
   ]
  },
  {
   "cell_type": "markdown",
   "metadata": {},
   "source": [
    "Note the use of double backslash (`\\\\`) here, which is required in order for the `write` command to interpret the ba "
   ]
  }
 ],
 "metadata": {
  "kernelspec": {
   "display_name": "fcc_pyenv",
   "language": "python",
   "name": "fcc_pyenv"
  },
  "language_info": {
   "codemirror_mode": {
    "name": "ipython",
    "version": 3
   },
   "file_extension": ".py",
   "mimetype": "text/x-python",
   "name": "python",
   "nbconvert_exporter": "python",
   "pygments_lexer": "ipython3",
   "version": "3.7.8"
  }
 },
 "nbformat": 4,
 "nbformat_minor": 4
}
